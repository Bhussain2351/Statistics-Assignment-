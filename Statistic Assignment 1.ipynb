{
 "cells": [
  {
   "cell_type": "markdown",
   "id": "6b030498-a81c-491d-9df9-907370724746",
   "metadata": {},
   "source": [
    "Statistics Assignment 1"
   ]
  },
  {
   "cell_type": "code",
   "execution_count": 1,
   "id": "a87a957a-3e61-4522-8826-bb7cc5650173",
   "metadata": {},
   "outputs": [],
   "source": [
    "#  1 Ans. The central tendency is stated as the statistical measure that represents\n",
    "#          the single value of the entire distribution or a dataset.\n",
    "#         It aims to provide an accurate description of the entire data in the distribution."
   ]
  },
  {
   "cell_type": "code",
   "execution_count": 2,
   "id": "2f35b9c9-46e0-49fb-ae1c-a042b072c230",
   "metadata": {},
   "outputs": [],
   "source": [
    "# 2 Ans. Mean is the average (or arithmetic mean) of the values of a data set, \n",
    "#        whereas median is the middlemost value of the data.\n",
    "#        A mode is defined as the value that has a higher frequency in a given set of values. \n",
    "#        It is the value that appears the most number of times. "
   ]
  },
  {
   "cell_type": "code",
   "execution_count": 3,
   "id": "998deeb7-f1ff-4c7d-9f77-9f6bb5e0bd9f",
   "metadata": {},
   "outputs": [],
   "source": [
    "heights=[178,177,176,177,178.2,178,175,179,180,175,178.9,176.2,177,172.5,178,176.5]"
   ]
  },
  {
   "cell_type": "code",
   "execution_count": 4,
   "id": "ed76e12a-4fc3-4771-8de9-fd45aca5c1d8",
   "metadata": {},
   "outputs": [],
   "source": [
    "import numpy as np"
   ]
  },
  {
   "cell_type": "code",
   "execution_count": 5,
   "id": "9b67971f-e06e-40ba-9008-603d90c90bda",
   "metadata": {},
   "outputs": [
    {
     "data": {
      "text/plain": [
       "177.01875"
      ]
     },
     "execution_count": 5,
     "metadata": {},
     "output_type": "execute_result"
    }
   ],
   "source": [
    "# Mean\n",
    "np.mean(heights)"
   ]
  },
  {
   "cell_type": "code",
   "execution_count": 6,
   "id": "fae97497-ad01-46a9-b5b9-e4be714b5387",
   "metadata": {},
   "outputs": [
    {
     "data": {
      "text/plain": [
       "177.0"
      ]
     },
     "execution_count": 6,
     "metadata": {},
     "output_type": "execute_result"
    }
   ],
   "source": [
    "# Median\n",
    "np.median(heights)"
   ]
  },
  {
   "cell_type": "code",
   "execution_count": 10,
   "id": "4be7eaa0-1f4e-4b12-85ea-f92fe58ebad7",
   "metadata": {},
   "outputs": [
    {
     "name": "stderr",
     "output_type": "stream",
     "text": [
      "/tmp/ipykernel_95/3996934126.py:3: FutureWarning: Unlike other reduction functions (e.g. `skew`, `kurtosis`), the default behavior of `mode` typically preserves the axis it acts along. In SciPy 1.11.0, this behavior will change: the default value of `keepdims` will become False, the `axis` over which the statistic is taken will be eliminated, and the value None will no longer be accepted. Set `keepdims` to True or False to avoid this warning.\n",
      "  stats.mode(heights)\n"
     ]
    },
    {
     "data": {
      "text/plain": [
       "ModeResult(mode=array([177.]), count=array([3]))"
      ]
     },
     "execution_count": 10,
     "metadata": {},
     "output_type": "execute_result"
    }
   ],
   "source": [
    "# Mode\n",
    "from scipy import stats\n",
    "stats.mode(heights)"
   ]
  },
  {
   "cell_type": "code",
   "execution_count": 11,
   "id": "1a9c77ad-b862-4804-854c-24d5d229984a",
   "metadata": {},
   "outputs": [
    {
     "data": {
      "text/plain": [
       "1.7885814036548633"
      ]
     },
     "execution_count": 11,
     "metadata": {},
     "output_type": "execute_result"
    }
   ],
   "source": [
    "# 4 Ans.\n",
    "\n",
    "np.std(heights)"
   ]
  },
  {
   "cell_type": "code",
   "execution_count": 12,
   "id": "3b107757-8b55-4d78-bc25-6b9c729d8e1d",
   "metadata": {},
   "outputs": [],
   "source": [
    "# 5 Ans\n",
    "\n",
    "# Dispersion is the state of getting dispersed or spread. \n",
    "# Statistical dispersion means the extent to which numerical data is likely to vary about an average value. \n",
    "# In other words, dispersion helps to understand the distribution of the data.\n",
    "\n",
    "# Range: It is simply the difference between the maximum value and the minimum value given in a data set.\n",
    "# Example: 1, 3,5, 6, 7 => Range = 7 -1= 6\n",
    "\n",
    "# Variance: Deduct the mean from each data in the set, square each of them and add each square and \n",
    "# finally divide them by the total no of values in the data set to get the variance.\n",
    "# Variance (σ2) = ∑(X−μ)2/N\n",
    "\n",
    "# The square root of the variance is known as the standard deviation i.e. S.D. = √σ."
   ]
  },
  {
   "cell_type": "code",
   "execution_count": 13,
   "id": "2087591c-b073-40d8-81db-cd140a1d9996",
   "metadata": {},
   "outputs": [],
   "source": [
    "# 6 Ans\n",
    "\n",
    "# A Venn diagram is an illustration that uses overlapping circles to show the logical relation between \n",
    "# two or more sets of items. Circles that overlap have a commonality while circles \n",
    "# that do not overlap do not share those traits. \n",
    "# The Venn diagram was popularized by John Venn in the 1880s."
   ]
  },
  {
   "cell_type": "code",
   "execution_count": 14,
   "id": "1a0bcb5e-b250-4177-856f-c570488bb6ea",
   "metadata": {},
   "outputs": [],
   "source": [
    "# 7 Ans\n",
    "\n",
    "A = (2,3,4,5,6,7)\n",
    "B = (0,2,6,8,10)"
   ]
  },
  {
   "cell_type": "code",
   "execution_count": 16,
   "id": "725e27ff-7612-4e9d-996d-27d39a3c27db",
   "metadata": {},
   "outputs": [],
   "source": [
    "# A U B= (2,3,4,5,6,7,0,2,6,8,10)"
   ]
  },
  {
   "cell_type": "code",
   "execution_count": 17,
   "id": "7841429c-1746-433c-8caf-d9810b2e3379",
   "metadata": {},
   "outputs": [],
   "source": [
    "# A intersection B =(2,6)\n"
   ]
  },
  {
   "cell_type": "code",
   "execution_count": 18,
   "id": "05f313f6-663e-4ea7-a685-5ff34923b7c3",
   "metadata": {},
   "outputs": [],
   "source": [
    "# 8 Ans.\n",
    "\n",
    "# Skewness is the degree of asymmetry observed in a probability distribution."
   ]
  },
  {
   "cell_type": "code",
   "execution_count": 19,
   "id": "83fd2295-8b81-40f9-b3ad-e1b9e5ffd86c",
   "metadata": {},
   "outputs": [],
   "source": [
    "#  9 Ans.\n",
    "\n",
    "# If the distribution of data is skewed to the right, the mode is often less than the median, \n",
    "# which is less than the mean."
   ]
  },
  {
   "cell_type": "code",
   "execution_count": 20,
   "id": "41a23416-c11d-4dbd-9e94-2914b295b75f",
   "metadata": {},
   "outputs": [],
   "source": [
    "#  10 Ans.\n",
    "\n",
    "# Covariance indicates the direction of the linear relationship between variables. \n",
    "# Correlation measures both the strength and direction of the linear relationship between two variables."
   ]
  },
  {
   "cell_type": "code",
   "execution_count": 21,
   "id": "2965ae22-90cb-4f3f-9bf6-cb3a4bad181e",
   "metadata": {},
   "outputs": [],
   "source": [
    "# 11 Ans\n",
    "\n",
    "#  x̄ = ( Σ xi ) / n."
   ]
  },
  {
   "cell_type": "code",
   "execution_count": 22,
   "id": "6bfdd385-65aa-4fb4-9c21-01bc6865a502",
   "metadata": {},
   "outputs": [],
   "source": [
    "# 12 Ans.\n",
    "# In a normal distribution, data is symmetrically distributed with no skew.\n",
    "# Most values cluster around a central region, with values tapering off as they go further away from the center. \n",
    "# The mean, mode and median are exactly the same in a normal distribution"
   ]
  },
  {
   "cell_type": "code",
   "execution_count": 23,
   "id": "1df9e8e7-9b70-450b-bfdf-1b30d3878d8f",
   "metadata": {},
   "outputs": [],
   "source": [
    "#  13 Ans.\n",
    "\n",
    "# Covariance indicates the direction of the linear relationship between variables.\n",
    "# Correlation measures both the strength and direction of the linear relationship between two variables"
   ]
  },
  {
   "cell_type": "code",
   "execution_count": 24,
   "id": "6f417ff6-50ee-4204-bee1-6bcbdadd9924",
   "metadata": {},
   "outputs": [],
   "source": [
    "#  14 Ans.\n",
    "\n",
    "# Outliers are numbers in a data set that are vastly larger or smaller than the other values in the set.\n",
    "# Mean, median and mode are measures of central tendency. Mean is the only measure of central tendency that is always affected by an outlier.\n",
    "# Mean, the average, is the most popular measure of central tendency."
   ]
  },
  {
   "cell_type": "code",
   "execution_count": null,
   "id": "e75a1d6d-c581-462b-a775-6b6c9008eb34",
   "metadata": {},
   "outputs": [],
   "source": []
  }
 ],
 "metadata": {
  "kernelspec": {
   "display_name": "Python 3 (ipykernel)",
   "language": "python",
   "name": "python3"
  },
  "language_info": {
   "codemirror_mode": {
    "name": "ipython",
    "version": 3
   },
   "file_extension": ".py",
   "mimetype": "text/x-python",
   "name": "python",
   "nbconvert_exporter": "python",
   "pygments_lexer": "ipython3",
   "version": "3.10.8"
  }
 },
 "nbformat": 4,
 "nbformat_minor": 5
}
